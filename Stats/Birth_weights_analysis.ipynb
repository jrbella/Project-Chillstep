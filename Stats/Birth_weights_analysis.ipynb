{
 "cells": [
  {
   "cell_type": "code",
   "execution_count": 1,
   "id": "68264e70",
   "metadata": {},
   "outputs": [
    {
     "name": "stdout",
     "output_type": "stream",
     "text": [
      "The mean of birth weights is: 7.452083333333333\n",
      "The median of birth weights is: 7.35\n",
      "Frequency of unique values: \n",
      "[[5.8 5.9 6.1 6.4 6.7 6.8 6.9 7.  7.1 7.2 7.3 7.4 7.5 7.6 7.7 7.8 7.9 8.\n",
      "  8.1 8.2 8.5 8.7 9.  9.1 9.2]\n",
      " [1.  1.  1.  2.  1.  1.  2.  5.  3.  5.  2.  3.  2.  2.  1.  3.  3.  1.\n",
      "  1.  2.  1.  2.  1.  1.  1. ]]\n"
     ]
    },
    {
     "data": {
      "image/png": "[encoded data removed]",
      "text/plain": [
       "<Figure size 432x288 with 1 Axes>"
      ]
     },
     "metadata": {
      "needs_background": "light"
     },
     "output_type": "display_data"
    }
   ],
   "source": [
    "# imports\n",
    "import numpy as np\n",
    "from matplotlib import pyplot as plt\n",
    "# data\n",
    "\n",
    "birth_weights = [ 5.8, 7.9, 8.7, 7.9, 7.3, 7.1, 7.6,\n",
    "                7.4, 7.8, 7.2, 5.9, 6.4, 6.8, 6.9, 7.0, 6.7,\n",
    "                9.2, 7.9, 6.1, 7.0, 7.4, 7.0, 6.9, 7.0,\n",
    "                7.0, 7.7, 7.2, 7.8, 8.2, 8.1, 6.4, 7.4, \n",
    "                8.5, 9.0, 7.1, 7.2, 9.1, 8.0, 7.8, 8.2,\n",
    "                7.6, 7.1, 7.2, 7.5, 7.3, 7.5, 8.7, 7.2]\n",
    "\n",
    "\n",
    "# find the mean and median\n",
    "birth_weight_mean = np.mean(birth_weights)\n",
    "birth_weight_median = np.median(birth_weights)\n",
    "\n",
    "print(\"The mean of birth weights is: \" + str(birth_weight_mean))\n",
    "print(\"The median of birth weights is: \" + str(birth_weight_median))\n",
    "\n",
    "# clean the data to find frequency\n",
    "unique_elements, counts_elements = np.unique(birth_weights, return_counts=True)\n",
    "print(\"Frequency of unique values: \")\n",
    "print(np.array((unique_elements, counts_elements)))\n",
    "\n",
    "# plot the data\n",
    "fig = plt.figure()\n",
    "ax = fig.add_axes([0,0,1,1])\n",
    "x_plot = unique_elements\n",
    "y_plot = counts_elements\n",
    "plt.title(\"Birth Weights\")\n",
    "plt.xlabel(\"Weight in Pounds\")\n",
    "plt.ylabel(\"Frequency\")\n",
    "ax.bar(x_plot, y_plot)\n",
    "plt.show()\n"
   ]
  },
  {
   "cell_type": "code",
   "execution_count": null,
   "id": "a352b244",
   "metadata": {},
   "outputs": [],
   "source": []
  }
 ],
 "metadata": {
  "kernelspec": {
   "display_name": "Python 3",
   "language": "python",
   "name": "python3"
  },
  "language_info": {
   "codemirror_mode": {
    "name": "ipython",
    "version": 3
   },
   "file_extension": ".py",
   "mimetype": "text/x-python",
   "name": "python",
   "nbconvert_exporter": "python",
   "pygments_lexer": "ipython3",
   "version": "3.9.3"
  }
 },
 "nbformat": 4,
 "nbformat_minor": 5
}
