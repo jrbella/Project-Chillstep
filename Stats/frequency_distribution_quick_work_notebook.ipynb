{
 "cells": [
  {
   "cell_type": "code",
   "execution_count": 1,
   "id": "b5107297",
   "metadata": {},
   "outputs": [
    {
     "name": "stdout",
     "output_type": "stream",
     "text": [
      "[12, 1, 2, 1, 5, 2, 2, 1, 4]\n",
      "The sum of the data is : 30\n",
      "The relative freq is : 0.4\n",
      "The relative freq is : 0.03333333333333333\n",
      "The relative freq is : 0.06666666666666667\n",
      "The relative freq is : 0.03333333333333333\n",
      "The relative freq is : 0.16666666666666666\n",
      "The relative freq is : 0.06666666666666667\n",
      "The relative freq is : 0.06666666666666667\n",
      "The relative freq is : 0.03333333333333333\n",
      "The relative freq is : 0.13333333333333333\n",
      "Adding back to dictionary\n",
      "Adding elbow to dictionary\n",
      "Adding hand to dictionary\n",
      "Adding neck to dictionary\n",
      "Adding knee to dictionary\n",
      "Adding hip to dictionary\n",
      "Adding wrist to dictionary\n",
      "Adding groin to dictionary\n",
      "Adding shoulder to dictionary\n",
      "{'back': {'back_frequency': 12, 'back_relative_frequency': 0.4}, 'elbow': {'elbow_frequency': 1, 'elbow_relative_frequency': 0.03333333333333333}, 'hand': {'hand_frequency': 2, 'hand_relative_frequency': 0.06666666666666667}, 'neck': {'neck_frequency': 1, 'neck_relative_frequency': 0.03333333333333333}, 'knee': {'knee_frequency': 5, 'knee_relative_frequency': 0.16666666666666666}, 'hip': {'hip_frequency': 2, 'hip_relative_frequency': 0.06666666666666667}, 'wrist': {'wrist_frequency': 2, 'wrist_relative_frequency': 0.06666666666666667}, 'groin': {'groin_frequency': 1, 'groin_relative_frequency': 0.03333333333333333}, 'shoulder': {'shoulder_frequency': 4, 'shoulder_relative_frequency': 0.13333333333333333}}\n"
     ]
    },
    {
     "data": {
      "image/png": "[encoded data removed]",
      "text/plain": [
       "<Figure size 432x288 with 1 Axes>"
      ]
     },
     "metadata": {
      "needs_background": "light"
     },
     "output_type": "display_data"
    }
   ],
   "source": [
    "# imports\n",
    "import matplotlib.pyplot as plt\n",
    "\n",
    "# Types of rehabilitation\n",
    "raw_data = [\"back\", \"back\", \"hand\", \"neck\", \"knee\", \"knee\",\n",
    "            \"wrist\", \"back\", \"groin\", \"shoulder\", \"shoulder\",\n",
    "            \"back\", \"elbow\", \"back\", \"back\", \"back\", \"back\", \"back\",\n",
    "            \"back\", \"shoulder\", \"shoulder\", \"knee\", \"knee\", \"back\",\n",
    "            \"hip\", \"knee\", \"hip\", \"hand\", \"back\", \"wrist\"]\n",
    "\n",
    "\n",
    "back = raw_data.count(\"back\")\n",
    "elbow = raw_data.count(\"elbow\")\n",
    "hand = raw_data.count(\"hand\")\n",
    "neck = raw_data.count(\"neck\")\n",
    "knee = raw_data.count(\"knee\")\n",
    "hip = raw_data.count(\"hip\")\n",
    "wrist = raw_data.count(\"wrist\")\n",
    "groin = raw_data.count(\"groin\")\n",
    "shoulder = raw_data.count(\"shoulder\")\n",
    "\n",
    "frequency_of_data = [back, elbow, hand, neck, knee, hip, wrist, groin, shoulder]\n",
    "\n",
    "print(str(frequency_of_data))\n",
    "\n",
    "sum_of_frequency = sum(frequency_of_data)\n",
    "\n",
    "print(\"The sum of the data is : \" + str(sum_of_frequency))\n",
    "\n",
    "def relative_frequency(sum_frequency, sample):\n",
    "    result = sample/sum_frequency\n",
    "    print(\"The relative freq is : \" + str(result))\n",
    "    return result\n",
    "\n",
    "back_relative_frequency = relative_frequency(sum_of_frequency, back)\n",
    "elbow_relative_frequency = relative_frequency(sum_of_frequency, elbow)\n",
    "hand_relative_frequency = relative_frequency(sum_of_frequency, hand)\n",
    "neck_relative_frequency = relative_frequency(sum_of_frequency, neck)\n",
    "knee_relative_frequency = relative_frequency(sum_of_frequency, knee)\n",
    "hip_relative_frequency = relative_frequency(sum_of_frequency, hip)\n",
    "wrist_relative_frequency = relative_frequency(sum_of_frequency, wrist)\n",
    "groin_relative_frequency = relative_frequency(sum_of_frequency, groin)\n",
    "shoulder_relative_frequency = relative_frequency(sum_of_frequency, shoulder)\n",
    "\n",
    "\n",
    "\n",
    "data_sample = {}\n",
    "\n",
    "\n",
    "def construct_type_data(type_of_rehab, frequency, relative_frequency, dict_to_add):\n",
    "    #construct the strings for the dictionary \n",
    "    freq_construct = type_of_rehab + \"_frequency\"\n",
    "    rel_freq_constrcut = type_of_rehab + \"_relative_frequency\"\n",
    "\n",
    "    temp_dict = {\n",
    "        freq_construct : frequency, \n",
    "        rel_freq_constrcut : relative_frequency        \n",
    "    }\n",
    "\n",
    "    # append to target dictionary\n",
    "    print(\"Adding \" + type_of_rehab + \" to dictionary\")\n",
    "    dict_to_add[type_of_rehab] = temp_dict\n",
    "\n",
    "\n",
    "# Building the dictionary\n",
    "construct_type_data(\"back\", back, back_relative_frequency, data_sample)\n",
    "construct_type_data(\"elbow\", elbow, elbow_relative_frequency, data_sample)\n",
    "construct_type_data(\"hand\", hand, hand_relative_frequency, data_sample)\n",
    "construct_type_data(\"neck\", neck, neck_relative_frequency, data_sample)\n",
    "construct_type_data(\"knee\", knee, knee_relative_frequency, data_sample)\n",
    "construct_type_data(\"hip\", hip, hip_relative_frequency, data_sample)\n",
    "construct_type_data(\"wrist\", wrist, wrist_relative_frequency, data_sample)\n",
    "construct_type_data(\"groin\", groin, groin_relative_frequency, data_sample)\n",
    "construct_type_data(\"shoulder\", shoulder, shoulder_relative_frequency, data_sample)\n",
    "\n",
    "\n",
    "print(data_sample)\n",
    "\n",
    "# Creating the bar graphs\n",
    "\n",
    "therapy_types = ['back', \"elbow\", \"hand\", \"neck\", \"knee\", \"hip\", \"wrist\", \"groin\", \"shoulder\"]\n",
    "frequency_of_types = [back, elbow, hand, neck, knee, hip, wrist, groin, shoulder]\n",
    "relative_frequency_of_types = [\n",
    "    back_relative_frequency,\n",
    "    elbow_relative_frequency,\n",
    "    hand_relative_frequency,\n",
    "    neck_relative_frequency,\n",
    "    knee_relative_frequency,\n",
    "    hip_relative_frequency,\n",
    "    wrist_relative_frequency,\n",
    "    groin_relative_frequency,\n",
    "    shoulder_relative_frequency\n",
    "]\n",
    "\n",
    "\n",
    "# quick bar graph function\n",
    "\n",
    "def show_bar_graph(x_plot, y_plot):\n",
    "    fig = plt.figure()\n",
    "    ax = fig.add_axes([0,0,1,1])\n",
    "    ax.bar(x_plot, y_plot)\n",
    "    plt.show()\n",
    "\n",
    "# create bar graph for relative frequency\n",
    "show_bar_graph(therapy_types, relative_frequency_of_types)"
   ]
  },
  {
   "cell_type": "code",
   "execution_count": 2,
   "id": "0385c2cb",
   "metadata": {},
   "outputs": [
    {
     "data": {
      "image/png": "[encoded data removed]",
      "text/plain": [
       "<Figure size 432x288 with 1 Axes>"
      ]
     },
     "metadata": {
      "needs_background": "light"
     },
     "output_type": "display_data"
    }
   ],
   "source": [
    "show_bar_graph(therapy_types, frequency_of_types)\n"
   ]
  }
 ],
 "metadata": {
  "kernelspec": {
   "display_name": "Python 3",
   "language": "python",
   "name": "python3"
  },
  "language_info": {
   "codemirror_mode": {
    "name": "ipython",
    "version": 3
   },
   "file_extension": ".py",
   "mimetype": "text/x-python",
   "name": "python",
   "nbconvert_exporter": "python",
   "pygments_lexer": "ipython3",
   "version": "3.9.3"
  }
 },
 "nbformat": 4,
 "nbformat_minor": 5
}
